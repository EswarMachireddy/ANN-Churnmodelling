{
 "cells": [
  {
   "cell_type": "code",
   "execution_count": 14,
   "metadata": {},
   "outputs": [],
   "source": [
    "#Data Preprocessing\n",
    "import numpy as np\n",
    "import matplotlib.pyplot as plt\n",
    "import pandas as pd"
   ]
  },
  {
   "cell_type": "code",
   "execution_count": 15,
   "metadata": {},
   "outputs": [],
   "source": [
    "#importing dataset\n",
    "data=pd.read_csv(\"Churn_Modelling.csv\")"
   ]
  },
  {
   "cell_type": "code",
   "execution_count": 16,
   "metadata": {},
   "outputs": [
    {
     "data": {
      "text/html": [
       "<div>\n",
       "<style scoped>\n",
       "    .dataframe tbody tr th:only-of-type {\n",
       "        vertical-align: middle;\n",
       "    }\n",
       "\n",
       "    .dataframe tbody tr th {\n",
       "        vertical-align: top;\n",
       "    }\n",
       "\n",
       "    .dataframe thead th {\n",
       "        text-align: right;\n",
       "    }\n",
       "</style>\n",
       "<table border=\"1\" class=\"dataframe\">\n",
       "  <thead>\n",
       "    <tr style=\"text-align: right;\">\n",
       "      <th></th>\n",
       "      <th>RowNumber</th>\n",
       "      <th>CustomerId</th>\n",
       "      <th>Surname</th>\n",
       "      <th>CreditScore</th>\n",
       "      <th>Geography</th>\n",
       "      <th>Gender</th>\n",
       "      <th>Age</th>\n",
       "      <th>Tenure</th>\n",
       "      <th>Balance</th>\n",
       "      <th>NumOfProducts</th>\n",
       "      <th>HasCrCard</th>\n",
       "      <th>IsActiveMember</th>\n",
       "      <th>EstimatedSalary</th>\n",
       "      <th>Exited</th>\n",
       "    </tr>\n",
       "  </thead>\n",
       "  <tbody>\n",
       "    <tr>\n",
       "      <th>0</th>\n",
       "      <td>1</td>\n",
       "      <td>15634602</td>\n",
       "      <td>Hargrave</td>\n",
       "      <td>619</td>\n",
       "      <td>France</td>\n",
       "      <td>Female</td>\n",
       "      <td>42</td>\n",
       "      <td>2</td>\n",
       "      <td>0.00</td>\n",
       "      <td>1</td>\n",
       "      <td>1</td>\n",
       "      <td>1</td>\n",
       "      <td>101348.88</td>\n",
       "      <td>1</td>\n",
       "    </tr>\n",
       "    <tr>\n",
       "      <th>1</th>\n",
       "      <td>2</td>\n",
       "      <td>15647311</td>\n",
       "      <td>Hill</td>\n",
       "      <td>608</td>\n",
       "      <td>Spain</td>\n",
       "      <td>Female</td>\n",
       "      <td>41</td>\n",
       "      <td>1</td>\n",
       "      <td>83807.86</td>\n",
       "      <td>1</td>\n",
       "      <td>0</td>\n",
       "      <td>1</td>\n",
       "      <td>112542.58</td>\n",
       "      <td>0</td>\n",
       "    </tr>\n",
       "    <tr>\n",
       "      <th>2</th>\n",
       "      <td>3</td>\n",
       "      <td>15619304</td>\n",
       "      <td>Onio</td>\n",
       "      <td>502</td>\n",
       "      <td>France</td>\n",
       "      <td>Female</td>\n",
       "      <td>42</td>\n",
       "      <td>8</td>\n",
       "      <td>159660.80</td>\n",
       "      <td>3</td>\n",
       "      <td>1</td>\n",
       "      <td>0</td>\n",
       "      <td>113931.57</td>\n",
       "      <td>1</td>\n",
       "    </tr>\n",
       "    <tr>\n",
       "      <th>3</th>\n",
       "      <td>4</td>\n",
       "      <td>15701354</td>\n",
       "      <td>Boni</td>\n",
       "      <td>699</td>\n",
       "      <td>France</td>\n",
       "      <td>Female</td>\n",
       "      <td>39</td>\n",
       "      <td>1</td>\n",
       "      <td>0.00</td>\n",
       "      <td>2</td>\n",
       "      <td>0</td>\n",
       "      <td>0</td>\n",
       "      <td>93826.63</td>\n",
       "      <td>0</td>\n",
       "    </tr>\n",
       "    <tr>\n",
       "      <th>4</th>\n",
       "      <td>5</td>\n",
       "      <td>15737888</td>\n",
       "      <td>Mitchell</td>\n",
       "      <td>850</td>\n",
       "      <td>Spain</td>\n",
       "      <td>Female</td>\n",
       "      <td>43</td>\n",
       "      <td>2</td>\n",
       "      <td>125510.82</td>\n",
       "      <td>1</td>\n",
       "      <td>1</td>\n",
       "      <td>1</td>\n",
       "      <td>79084.10</td>\n",
       "      <td>0</td>\n",
       "    </tr>\n",
       "  </tbody>\n",
       "</table>\n",
       "</div>"
      ],
      "text/plain": [
       "   RowNumber  CustomerId   Surname  CreditScore Geography  Gender  Age  \\\n",
       "0          1    15634602  Hargrave          619    France  Female   42   \n",
       "1          2    15647311      Hill          608     Spain  Female   41   \n",
       "2          3    15619304      Onio          502    France  Female   42   \n",
       "3          4    15701354      Boni          699    France  Female   39   \n",
       "4          5    15737888  Mitchell          850     Spain  Female   43   \n",
       "\n",
       "   Tenure    Balance  NumOfProducts  HasCrCard  IsActiveMember  \\\n",
       "0       2       0.00              1          1               1   \n",
       "1       1   83807.86              1          0               1   \n",
       "2       8  159660.80              3          1               0   \n",
       "3       1       0.00              2          0               0   \n",
       "4       2  125510.82              1          1               1   \n",
       "\n",
       "   EstimatedSalary  Exited  \n",
       "0        101348.88       1  \n",
       "1        112542.58       0  \n",
       "2        113931.57       1  \n",
       "3         93826.63       0  \n",
       "4         79084.10       0  "
      ]
     },
     "execution_count": 16,
     "metadata": {},
     "output_type": "execute_result"
    }
   ],
   "source": [
    "data.head()"
   ]
  },
  {
   "cell_type": "code",
   "execution_count": 17,
   "metadata": {},
   "outputs": [
    {
     "data": {
      "text/plain": [
       "(10000, 14)"
      ]
     },
     "execution_count": 17,
     "metadata": {},
     "output_type": "execute_result"
    }
   ],
   "source": [
    "data.shape"
   ]
  },
  {
   "cell_type": "code",
   "execution_count": 18,
   "metadata": {},
   "outputs": [
    {
     "data": {
      "text/plain": [
       "((10000, 10), (10000,))"
      ]
     },
     "execution_count": 18,
     "metadata": {},
     "output_type": "execute_result"
    }
   ],
   "source": [
    "X= data.iloc[:,3:13]\n",
    "y=data.iloc[:,13]\n",
    "X.shape,y.shape"
   ]
  },
  {
   "cell_type": "code",
   "execution_count": 19,
   "metadata": {},
   "outputs": [],
   "source": [
    "geography=pd.get_dummies(X[\"Geography\"],drop_first=True)\n",
    "gender=pd.get_dummies(X[\"Gender\"],drop_first=True)"
   ]
  },
  {
   "cell_type": "code",
   "execution_count": 20,
   "metadata": {},
   "outputs": [],
   "source": [
    "X=X.drop([\"Geography\",\"Gender\"],axis=1)"
   ]
  },
  {
   "cell_type": "code",
   "execution_count": 21,
   "metadata": {},
   "outputs": [],
   "source": [
    "X=pd.concat([X,geography,gender],axis=1)"
   ]
  },
  {
   "cell_type": "code",
   "execution_count": 23,
   "metadata": {},
   "outputs": [
    {
     "data": {
      "text/html": [
       "<div>\n",
       "<style scoped>\n",
       "    .dataframe tbody tr th:only-of-type {\n",
       "        vertical-align: middle;\n",
       "    }\n",
       "\n",
       "    .dataframe tbody tr th {\n",
       "        vertical-align: top;\n",
       "    }\n",
       "\n",
       "    .dataframe thead th {\n",
       "        text-align: right;\n",
       "    }\n",
       "</style>\n",
       "<table border=\"1\" class=\"dataframe\">\n",
       "  <thead>\n",
       "    <tr style=\"text-align: right;\">\n",
       "      <th></th>\n",
       "      <th>CreditScore</th>\n",
       "      <th>Age</th>\n",
       "      <th>Tenure</th>\n",
       "      <th>Balance</th>\n",
       "      <th>NumOfProducts</th>\n",
       "      <th>HasCrCard</th>\n",
       "      <th>IsActiveMember</th>\n",
       "      <th>EstimatedSalary</th>\n",
       "      <th>Germany</th>\n",
       "      <th>Spain</th>\n",
       "      <th>Male</th>\n",
       "    </tr>\n",
       "  </thead>\n",
       "  <tbody>\n",
       "    <tr>\n",
       "      <th>0</th>\n",
       "      <td>619</td>\n",
       "      <td>42</td>\n",
       "      <td>2</td>\n",
       "      <td>0.00</td>\n",
       "      <td>1</td>\n",
       "      <td>1</td>\n",
       "      <td>1</td>\n",
       "      <td>101348.88</td>\n",
       "      <td>0</td>\n",
       "      <td>0</td>\n",
       "      <td>0</td>\n",
       "    </tr>\n",
       "    <tr>\n",
       "      <th>1</th>\n",
       "      <td>608</td>\n",
       "      <td>41</td>\n",
       "      <td>1</td>\n",
       "      <td>83807.86</td>\n",
       "      <td>1</td>\n",
       "      <td>0</td>\n",
       "      <td>1</td>\n",
       "      <td>112542.58</td>\n",
       "      <td>0</td>\n",
       "      <td>1</td>\n",
       "      <td>0</td>\n",
       "    </tr>\n",
       "    <tr>\n",
       "      <th>2</th>\n",
       "      <td>502</td>\n",
       "      <td>42</td>\n",
       "      <td>8</td>\n",
       "      <td>159660.80</td>\n",
       "      <td>3</td>\n",
       "      <td>1</td>\n",
       "      <td>0</td>\n",
       "      <td>113931.57</td>\n",
       "      <td>0</td>\n",
       "      <td>0</td>\n",
       "      <td>0</td>\n",
       "    </tr>\n",
       "    <tr>\n",
       "      <th>3</th>\n",
       "      <td>699</td>\n",
       "      <td>39</td>\n",
       "      <td>1</td>\n",
       "      <td>0.00</td>\n",
       "      <td>2</td>\n",
       "      <td>0</td>\n",
       "      <td>0</td>\n",
       "      <td>93826.63</td>\n",
       "      <td>0</td>\n",
       "      <td>0</td>\n",
       "      <td>0</td>\n",
       "    </tr>\n",
       "    <tr>\n",
       "      <th>4</th>\n",
       "      <td>850</td>\n",
       "      <td>43</td>\n",
       "      <td>2</td>\n",
       "      <td>125510.82</td>\n",
       "      <td>1</td>\n",
       "      <td>1</td>\n",
       "      <td>1</td>\n",
       "      <td>79084.10</td>\n",
       "      <td>0</td>\n",
       "      <td>1</td>\n",
       "      <td>0</td>\n",
       "    </tr>\n",
       "  </tbody>\n",
       "</table>\n",
       "</div>"
      ],
      "text/plain": [
       "   CreditScore  Age  Tenure    Balance  NumOfProducts  HasCrCard  \\\n",
       "0          619   42       2       0.00              1          1   \n",
       "1          608   41       1   83807.86              1          0   \n",
       "2          502   42       8  159660.80              3          1   \n",
       "3          699   39       1       0.00              2          0   \n",
       "4          850   43       2  125510.82              1          1   \n",
       "\n",
       "   IsActiveMember  EstimatedSalary  Germany  Spain  Male  \n",
       "0               1        101348.88        0      0     0  \n",
       "1               1        112542.58        0      1     0  \n",
       "2               0        113931.57        0      0     0  \n",
       "3               0         93826.63        0      0     0  \n",
       "4               1         79084.10        0      1     0  "
      ]
     },
     "execution_count": 23,
     "metadata": {},
     "output_type": "execute_result"
    }
   ],
   "source": [
    "X.head()"
   ]
  },
  {
   "cell_type": "code",
   "execution_count": 24,
   "metadata": {},
   "outputs": [],
   "source": [
    "#splitting the data into Train and Test dataset\n",
    "from sklearn.model_selection import train_test_split\n",
    "X_train,X_test,y_train,y_test= train_test_split(X,y,test_size=0.2,random_state=124)"
   ]
  },
  {
   "cell_type": "code",
   "execution_count": 25,
   "metadata": {},
   "outputs": [],
   "source": [
    "# Feature Scaling\n",
    "from sklearn.preprocessing import StandardScaler\n",
    "sc = StandardScaler()\n",
    "X_train = sc.fit_transform(X_train)\n",
    "X_test = sc.transform(X_test)"
   ]
  },
  {
   "cell_type": "code",
   "execution_count": 26,
   "metadata": {},
   "outputs": [
    {
     "name": "stderr",
     "output_type": "stream",
     "text": [
      "C:\\anaconda_install\\lib\\site-packages\\h5py\\__init__.py:72: UserWarning: h5py is running against HDF5 1.10.2 when it was built against 1.10.3, this may cause problems\n",
      "  '{0}.{1}.{2}'.format(*version.hdf5_built_version_tuple)\n",
      "Using Theano backend.\n",
      "WARNING (theano.configdefaults): g++ not available, if using conda: `conda install m2w64-toolchain`\n",
      "C:\\anaconda_install\\lib\\site-packages\\theano\\configdefaults.py:560: UserWarning: DeprecationWarning: there is no c++ compiler.This is deprecated and with Theano 0.11 a c++ compiler will be mandatory\n",
      "  warnings.warn(\"DeprecationWarning: there is no c++ compiler.\"\n",
      "WARNING (theano.configdefaults): g++ not detected ! Theano will be unable to execute optimized C-implementations (for both CPU and GPU) and will default to Python implementations. Performance will be severely degraded. To remove this warning, set Theano flags cxx to an empty string.\n",
      "WARNING (theano.tensor.blas): Using NumPy C-API based implementation for BLAS functions.\n"
     ]
    }
   ],
   "source": [
    "# Importing the Keras libraries and packages\n",
    "import keras\n",
    "from keras.models import Sequential\n",
    "from keras.layers import Dense\n",
    "from keras.layers import LeakyReLU,PReLU,ELU\n",
    "from keras.layers import Dropout"
   ]
  },
  {
   "cell_type": "code",
   "execution_count": 27,
   "metadata": {},
   "outputs": [],
   "source": [
    "# Initialising the ANN\n",
    "classifier = Sequential()"
   ]
  },
  {
   "cell_type": "code",
   "execution_count": 29,
   "metadata": {},
   "outputs": [],
   "source": [
    "# Adding the input layer and the first hidden layer\n",
    "classifier.add(Dense(units = 6, kernel_initializer = 'he_uniform',activation='relu',input_dim = 11))\n"
   ]
  },
  {
   "cell_type": "code",
   "execution_count": 30,
   "metadata": {},
   "outputs": [],
   "source": [
    "# Adding the second hidden layer\n",
    "classifier.add(Dense(units = 6, kernel_initializer = 'he_uniform',activation='relu'))"
   ]
  },
  {
   "cell_type": "code",
   "execution_count": 31,
   "metadata": {},
   "outputs": [],
   "source": [
    "# Adding the output layer\n",
    "classifier.add(Dense(units = 1, kernel_initializer = 'glorot_uniform', activation = 'sigmoid'))"
   ]
  },
  {
   "cell_type": "code",
   "execution_count": 32,
   "metadata": {},
   "outputs": [],
   "source": [
    "# Compiling the ANN\n",
    "classifier.compile(optimizer = 'Adamax', loss = 'binary_crossentropy', metrics = ['accuracy'])\n"
   ]
  },
  {
   "cell_type": "code",
   "execution_count": 33,
   "metadata": {},
   "outputs": [
    {
     "name": "stderr",
     "output_type": "stream",
     "text": [
      "C:\\anaconda_install\\lib\\site-packages\\ipykernel_launcher.py:3: UserWarning: The `nb_epoch` argument in `fit` has been renamed `epochs`.\n",
      "  This is separate from the ipykernel package so we can avoid doing imports until\n"
     ]
    },
    {
     "name": "stdout",
     "output_type": "stream",
     "text": [
      "Train on 5359 samples, validate on 2641 samples\n",
      "Epoch 1/100\n",
      "5359/5359 [==============================] - 19s 4ms/step - loss: 0.5658 - accuracy: 0.7927 - val_loss: 0.5121 - val_accuracy: 0.7978\n",
      "Epoch 2/100\n",
      "5359/5359 [==============================] - 18s 3ms/step - loss: 0.4957 - accuracy: 0.7927 - val_loss: 0.4790 - val_accuracy: 0.7978\n",
      "Epoch 3/100\n",
      "5359/5359 [==============================] - 18s 3ms/step - loss: 0.4716 - accuracy: 0.7927 - val_loss: 0.4633 - val_accuracy: 0.7978\n",
      "Epoch 4/100\n",
      "5359/5359 [==============================] - 18s 3ms/step - loss: 0.4557 - accuracy: 0.7927 - val_loss: 0.4537 - val_accuracy: 0.7978\n",
      "Epoch 5/100\n",
      "5359/5359 [==============================] - 18s 3ms/step - loss: 0.4447 - accuracy: 0.7927 - val_loss: 0.4481 - val_accuracy: 0.7978\n",
      "Epoch 6/100\n",
      "5359/5359 [==============================] - 19s 3ms/step - loss: 0.4364 - accuracy: 0.7927 - val_loss: 0.4431 - val_accuracy: 0.7978\n",
      "Epoch 7/100\n",
      "5359/5359 [==============================] - 18s 3ms/step - loss: 0.4300 - accuracy: 0.7931 - val_loss: 0.4395 - val_accuracy: 0.7982\n",
      "Epoch 8/100\n",
      "5359/5359 [==============================] - 18s 3ms/step - loss: 0.4245 - accuracy: 0.7955 - val_loss: 0.4363 - val_accuracy: 0.8061\n",
      "Epoch 9/100\n",
      "5359/5359 [==============================] - 20s 4ms/step - loss: 0.4200 - accuracy: 0.8029 - val_loss: 0.4331 - val_accuracy: 0.8167\n",
      "Epoch 10/100\n",
      "5359/5359 [==============================] - 19s 4ms/step - loss: 0.4159 - accuracy: 0.8147 - val_loss: 0.4314 - val_accuracy: 0.8239\n",
      "Epoch 11/100\n",
      "5359/5359 [==============================] - 18s 3ms/step - loss: 0.4131 - accuracy: 0.8190 - val_loss: 0.4285 - val_accuracy: 0.8236\n",
      "Epoch 12/100\n",
      "5359/5359 [==============================] - 18s 3ms/step - loss: 0.4095 - accuracy: 0.8196 - val_loss: 0.4249 - val_accuracy: 0.8220\n",
      "Epoch 13/100\n",
      "5359/5359 [==============================] - 18s 3ms/step - loss: 0.4068 - accuracy: 0.8229 - val_loss: 0.4231 - val_accuracy: 0.8247\n",
      "Epoch 14/100\n",
      "5359/5359 [==============================] - 18s 3ms/step - loss: 0.4041 - accuracy: 0.8235 - val_loss: 0.4205 - val_accuracy: 0.8266\n",
      "Epoch 15/100\n",
      "5359/5359 [==============================] - 18s 3ms/step - loss: 0.4009 - accuracy: 0.8237 - val_loss: 0.4188 - val_accuracy: 0.8292\n",
      "Epoch 16/100\n",
      "5359/5359 [==============================] - 18s 3ms/step - loss: 0.3981 - accuracy: 0.8259 - val_loss: 0.4154 - val_accuracy: 0.8300\n",
      "Epoch 17/100\n",
      "5359/5359 [==============================] - 18s 3ms/step - loss: 0.3950 - accuracy: 0.8252 - val_loss: 0.4118 - val_accuracy: 0.8258\n",
      "Epoch 18/100\n",
      "5359/5359 [==============================] - 18s 3ms/step - loss: 0.3923 - accuracy: 0.8281 - val_loss: 0.4090 - val_accuracy: 0.8270\n",
      "Epoch 19/100\n",
      "5359/5359 [==============================] - 18s 3ms/step - loss: 0.3896 - accuracy: 0.8304 - val_loss: 0.4069 - val_accuracy: 0.8289\n",
      "Epoch 20/100\n",
      "5359/5359 [==============================] - 18s 3ms/step - loss: 0.3871 - accuracy: 0.8294 - val_loss: 0.4044 - val_accuracy: 0.8307\n",
      "Epoch 21/100\n",
      "5359/5359 [==============================] - 18s 3ms/step - loss: 0.3846 - accuracy: 0.8308 - val_loss: 0.4028 - val_accuracy: 0.8307\n",
      "Epoch 22/100\n",
      "5359/5359 [==============================] - 18s 3ms/step - loss: 0.3821 - accuracy: 0.8332 - val_loss: 0.4002 - val_accuracy: 0.8349\n",
      "Epoch 23/100\n",
      "5359/5359 [==============================] - 18s 3ms/step - loss: 0.3798 - accuracy: 0.8352 - val_loss: 0.3974 - val_accuracy: 0.8349\n",
      "Epoch 24/100\n",
      "5359/5359 [==============================] - 18s 3ms/step - loss: 0.3773 - accuracy: 0.8388 - val_loss: 0.3952 - val_accuracy: 0.8349\n",
      "Epoch 25/100\n",
      "5359/5359 [==============================] - 19s 4ms/step - loss: 0.3746 - accuracy: 0.8399 - val_loss: 0.3929 - val_accuracy: 0.8387\n",
      "Epoch 26/100\n",
      "5359/5359 [==============================] - 18s 3ms/step - loss: 0.3724 - accuracy: 0.8434 - val_loss: 0.3905 - val_accuracy: 0.8395\n",
      "Epoch 27/100\n",
      "5359/5359 [==============================] - 19s 4ms/step - loss: 0.3707 - accuracy: 0.8414 - val_loss: 0.3882 - val_accuracy: 0.8395\n",
      "Epoch 28/100\n",
      "5359/5359 [==============================] - 19s 4ms/step - loss: 0.3689 - accuracy: 0.8451 - val_loss: 0.3856 - val_accuracy: 0.8413\n",
      "Epoch 29/100\n",
      "5359/5359 [==============================] - 20s 4ms/step - loss: 0.3668 - accuracy: 0.8453 - val_loss: 0.3842 - val_accuracy: 0.8425\n",
      "Epoch 30/100\n",
      "5359/5359 [==============================] - 19s 3ms/step - loss: 0.3654 - accuracy: 0.8464 - val_loss: 0.3817 - val_accuracy: 0.8444\n",
      "Epoch 31/100\n",
      "5359/5359 [==============================] - 17s 3ms/step - loss: 0.3635 - accuracy: 0.8472 - val_loss: 0.3808 - val_accuracy: 0.8455\n",
      "Epoch 32/100\n",
      "5359/5359 [==============================] - 17s 3ms/step - loss: 0.3617 - accuracy: 0.8492 - val_loss: 0.3797 - val_accuracy: 0.8459\n",
      "Epoch 33/100\n",
      "5359/5359 [==============================] - 17s 3ms/step - loss: 0.3602 - accuracy: 0.8505 - val_loss: 0.3786 - val_accuracy: 0.8466\n",
      "Epoch 34/100\n",
      "5359/5359 [==============================] - 17s 3ms/step - loss: 0.3588 - accuracy: 0.8515 - val_loss: 0.3776 - val_accuracy: 0.8474\n",
      "Epoch 35/100\n",
      "5359/5359 [==============================] - 18s 3ms/step - loss: 0.3578 - accuracy: 0.8509 - val_loss: 0.3769 - val_accuracy: 0.8489\n",
      "Epoch 36/100\n",
      "5359/5359 [==============================] - 18s 3ms/step - loss: 0.3563 - accuracy: 0.8520 - val_loss: 0.3755 - val_accuracy: 0.8489\n",
      "Epoch 37/100\n",
      "5359/5359 [==============================] - 18s 3ms/step - loss: 0.3554 - accuracy: 0.8522 - val_loss: 0.3749 - val_accuracy: 0.8489\n",
      "Epoch 38/100\n",
      "5359/5359 [==============================] - 18s 3ms/step - loss: 0.3546 - accuracy: 0.8537 - val_loss: 0.3732 - val_accuracy: 0.8531\n",
      "Epoch 39/100\n",
      "5359/5359 [==============================] - 18s 3ms/step - loss: 0.3530 - accuracy: 0.8561 - val_loss: 0.3719 - val_accuracy: 0.8512\n",
      "Epoch 40/100\n",
      "5359/5359 [==============================] - 18s 3ms/step - loss: 0.3526 - accuracy: 0.8559 - val_loss: 0.3716 - val_accuracy: 0.8535\n",
      "Epoch 41/100\n",
      "5359/5359 [==============================] - 18s 3ms/step - loss: 0.3521 - accuracy: 0.8569 - val_loss: 0.3713 - val_accuracy: 0.8538\n",
      "Epoch 42/100\n",
      "5359/5359 [==============================] - 18s 3ms/step - loss: 0.3513 - accuracy: 0.8563 - val_loss: 0.3699 - val_accuracy: 0.8542\n",
      "Epoch 43/100\n",
      "5359/5359 [==============================] - 18s 3ms/step - loss: 0.3505 - accuracy: 0.8582 - val_loss: 0.3682 - val_accuracy: 0.8580\n",
      "Epoch 44/100\n",
      "5359/5359 [==============================] - 18s 3ms/step - loss: 0.3498 - accuracy: 0.8543 - val_loss: 0.3667 - val_accuracy: 0.8580\n",
      "Epoch 45/100\n",
      "5359/5359 [==============================] - 18s 3ms/step - loss: 0.3497 - accuracy: 0.8580 - val_loss: 0.3702 - val_accuracy: 0.8538\n",
      "Epoch 46/100\n",
      "5359/5359 [==============================] - 18s 3ms/step - loss: 0.3491 - accuracy: 0.8571 - val_loss: 0.3663 - val_accuracy: 0.8588\n",
      "Epoch 47/100\n",
      "5359/5359 [==============================] - 18s 3ms/step - loss: 0.3480 - accuracy: 0.8561 - val_loss: 0.3667 - val_accuracy: 0.8557\n",
      "Epoch 48/100\n",
      "5359/5359 [==============================] - 18s 3ms/step - loss: 0.3474 - accuracy: 0.8567 - val_loss: 0.3653 - val_accuracy: 0.8573\n",
      "Epoch 49/100\n",
      "5359/5359 [==============================] - 18s 3ms/step - loss: 0.3472 - accuracy: 0.8584 - val_loss: 0.3641 - val_accuracy: 0.8569\n",
      "Epoch 50/100\n",
      "5359/5359 [==============================] - 18s 3ms/step - loss: 0.3463 - accuracy: 0.8595 - val_loss: 0.3643 - val_accuracy: 0.8550\n",
      "Epoch 51/100\n",
      "5359/5359 [==============================] - 18s 3ms/step - loss: 0.3461 - accuracy: 0.8591 - val_loss: 0.3657 - val_accuracy: 0.8561\n",
      "Epoch 52/100\n",
      "5359/5359 [==============================] - 18s 3ms/step - loss: 0.3457 - accuracy: 0.8602 - val_loss: 0.3635 - val_accuracy: 0.8557\n",
      "Epoch 53/100\n",
      "5359/5359 [==============================] - 18s 3ms/step - loss: 0.3456 - accuracy: 0.8589 - val_loss: 0.3643 - val_accuracy: 0.8569\n",
      "Epoch 54/100\n",
      "5359/5359 [==============================] - 18s 3ms/step - loss: 0.3450 - accuracy: 0.8604 - val_loss: 0.3643 - val_accuracy: 0.8554\n",
      "Epoch 55/100\n",
      "5359/5359 [==============================] - 18s 3ms/step - loss: 0.3447 - accuracy: 0.8589 - val_loss: 0.3632 - val_accuracy: 0.8554\n",
      "Epoch 56/100\n",
      "5359/5359 [==============================] - 17s 3ms/step - loss: 0.3441 - accuracy: 0.8602 - val_loss: 0.3626 - val_accuracy: 0.8573\n",
      "Epoch 57/100\n",
      "5359/5359 [==============================] - 17s 3ms/step - loss: 0.3442 - accuracy: 0.8599 - val_loss: 0.3639 - val_accuracy: 0.8569\n",
      "Epoch 58/100\n",
      "5359/5359 [==============================] - 17s 3ms/step - loss: 0.3432 - accuracy: 0.8623 - val_loss: 0.3649 - val_accuracy: 0.8561\n",
      "Epoch 59/100\n",
      "5359/5359 [==============================] - 17s 3ms/step - loss: 0.3430 - accuracy: 0.8617 - val_loss: 0.3637 - val_accuracy: 0.8584\n",
      "Epoch 60/100\n",
      "5359/5359 [==============================] - 17s 3ms/step - loss: 0.3434 - accuracy: 0.8617 - val_loss: 0.3637 - val_accuracy: 0.8565\n",
      "Epoch 61/100\n",
      "5359/5359 [==============================] - 17s 3ms/step - loss: 0.3432 - accuracy: 0.8602 - val_loss: 0.3641 - val_accuracy: 0.8565\n",
      "Epoch 62/100\n",
      "5359/5359 [==============================] - 17s 3ms/step - loss: 0.3424 - accuracy: 0.8595 - val_loss: 0.3627 - val_accuracy: 0.8580\n",
      "Epoch 63/100\n",
      "5359/5359 [==============================] - 17s 3ms/step - loss: 0.3419 - accuracy: 0.8627 - val_loss: 0.3642 - val_accuracy: 0.8584\n",
      "Epoch 64/100\n",
      "5359/5359 [==============================] - 17s 3ms/step - loss: 0.3418 - accuracy: 0.8615 - val_loss: 0.3641 - val_accuracy: 0.8588\n",
      "Epoch 65/100\n",
      "5359/5359 [==============================] - 17s 3ms/step - loss: 0.3416 - accuracy: 0.8604 - val_loss: 0.3630 - val_accuracy: 0.8610\n",
      "Epoch 66/100\n",
      "5359/5359 [==============================] - 17s 3ms/step - loss: 0.3410 - accuracy: 0.8615 - val_loss: 0.3621 - val_accuracy: 0.8580\n",
      "Epoch 67/100\n",
      "5359/5359 [==============================] - 17s 3ms/step - loss: 0.3406 - accuracy: 0.8630 - val_loss: 0.3607 - val_accuracy: 0.8588\n",
      "Epoch 68/100\n",
      "5359/5359 [==============================] - 17s 3ms/step - loss: 0.3401 - accuracy: 0.8625 - val_loss: 0.3592 - val_accuracy: 0.8595\n",
      "Epoch 69/100\n",
      "5359/5359 [==============================] - 17s 3ms/step - loss: 0.3404 - accuracy: 0.8619 - val_loss: 0.3603 - val_accuracy: 0.8591\n",
      "Epoch 70/100\n",
      "5359/5359 [==============================] - 17s 3ms/step - loss: 0.3397 - accuracy: 0.8615 - val_loss: 0.3617 - val_accuracy: 0.8599\n",
      "Epoch 71/100\n",
      "5359/5359 [==============================] - 17s 3ms/step - loss: 0.3397 - accuracy: 0.8610 - val_loss: 0.3614 - val_accuracy: 0.8573\n",
      "Epoch 72/100\n",
      "5359/5359 [==============================] - 17s 3ms/step - loss: 0.3397 - accuracy: 0.8621 - val_loss: 0.3600 - val_accuracy: 0.8573\n",
      "Epoch 73/100\n",
      "5359/5359 [==============================] - 17s 3ms/step - loss: 0.3392 - accuracy: 0.8606 - val_loss: 0.3620 - val_accuracy: 0.8614\n",
      "Epoch 74/100\n",
      "5359/5359 [==============================] - 17s 3ms/step - loss: 0.3389 - accuracy: 0.8608 - val_loss: 0.3601 - val_accuracy: 0.8591\n",
      "Epoch 75/100\n",
      "5359/5359 [==============================] - 17s 3ms/step - loss: 0.3389 - accuracy: 0.8625 - val_loss: 0.3603 - val_accuracy: 0.8610\n",
      "Epoch 76/100\n",
      "5359/5359 [==============================] - 17s 3ms/step - loss: 0.3387 - accuracy: 0.8640 - val_loss: 0.3598 - val_accuracy: 0.8610\n",
      "Epoch 77/100\n",
      "5359/5359 [==============================] - 17s 3ms/step - loss: 0.3379 - accuracy: 0.8632 - val_loss: 0.3593 - val_accuracy: 0.8603\n",
      "Epoch 78/100\n",
      "5359/5359 [==============================] - 17s 3ms/step - loss: 0.3380 - accuracy: 0.8628 - val_loss: 0.3588 - val_accuracy: 0.8626\n",
      "Epoch 79/100\n",
      "5359/5359 [==============================] - 17s 3ms/step - loss: 0.3377 - accuracy: 0.8634 - val_loss: 0.3620 - val_accuracy: 0.8588\n",
      "Epoch 80/100\n",
      "5359/5359 [==============================] - 17s 3ms/step - loss: 0.3375 - accuracy: 0.8628 - val_loss: 0.3586 - val_accuracy: 0.8595\n",
      "Epoch 81/100\n",
      "5359/5359 [==============================] - 17s 3ms/step - loss: 0.3372 - accuracy: 0.8625 - val_loss: 0.3590 - val_accuracy: 0.8603\n",
      "Epoch 82/100\n",
      "5359/5359 [==============================] - 17s 3ms/step - loss: 0.3369 - accuracy: 0.8651 - val_loss: 0.3597 - val_accuracy: 0.8603\n",
      "Epoch 83/100\n",
      "5359/5359 [==============================] - 17s 3ms/step - loss: 0.3374 - accuracy: 0.8643 - val_loss: 0.3575 - val_accuracy: 0.8603\n",
      "Epoch 84/100\n",
      "5359/5359 [==============================] - 17s 3ms/step - loss: 0.3373 - accuracy: 0.8634 - val_loss: 0.3589 - val_accuracy: 0.8629\n",
      "Epoch 85/100\n",
      "5359/5359 [==============================] - 17s 3ms/step - loss: 0.3368 - accuracy: 0.8628 - val_loss: 0.3589 - val_accuracy: 0.8603\n",
      "Epoch 86/100\n",
      "5359/5359 [==============================] - 17s 3ms/step - loss: 0.3368 - accuracy: 0.8623 - val_loss: 0.3590 - val_accuracy: 0.8614\n",
      "Epoch 87/100\n",
      "5359/5359 [==============================] - 17s 3ms/step - loss: 0.3366 - accuracy: 0.8632 - val_loss: 0.3595 - val_accuracy: 0.8622\n",
      "Epoch 88/100\n",
      "5359/5359 [==============================] - 17s 3ms/step - loss: 0.3365 - accuracy: 0.8627 - val_loss: 0.3583 - val_accuracy: 0.8626\n",
      "Epoch 89/100\n",
      "5359/5359 [==============================] - 17s 3ms/step - loss: 0.3357 - accuracy: 0.8655 - val_loss: 0.3585 - val_accuracy: 0.8610\n",
      "Epoch 90/100\n",
      "5359/5359 [==============================] - 17s 3ms/step - loss: 0.3360 - accuracy: 0.8636 - val_loss: 0.3593 - val_accuracy: 0.8607\n",
      "Epoch 91/100\n",
      "5359/5359 [==============================] - 17s 3ms/step - loss: 0.3357 - accuracy: 0.8638 - val_loss: 0.3573 - val_accuracy: 0.8595\n",
      "Epoch 92/100\n",
      "5359/5359 [==============================] - 17s 3ms/step - loss: 0.3361 - accuracy: 0.8647 - val_loss: 0.3575 - val_accuracy: 0.8614\n",
      "Epoch 93/100\n",
      "5359/5359 [==============================] - 17s 3ms/step - loss: 0.3357 - accuracy: 0.8649 - val_loss: 0.3565 - val_accuracy: 0.8614\n",
      "Epoch 94/100\n",
      "5359/5359 [==============================] - 17s 3ms/step - loss: 0.3352 - accuracy: 0.8645 - val_loss: 0.3573 - val_accuracy: 0.8629\n",
      "Epoch 95/100\n",
      "5359/5359 [==============================] - 17s 3ms/step - loss: 0.3354 - accuracy: 0.8658 - val_loss: 0.3589 - val_accuracy: 0.8607\n",
      "Epoch 96/100\n",
      "5359/5359 [==============================] - 17s 3ms/step - loss: 0.3350 - accuracy: 0.8651 - val_loss: 0.3569 - val_accuracy: 0.8603\n",
      "Epoch 97/100\n",
      "5359/5359 [==============================] - 17s 3ms/step - loss: 0.3348 - accuracy: 0.8643 - val_loss: 0.3570 - val_accuracy: 0.8618\n",
      "Epoch 98/100\n",
      "5359/5359 [==============================] - 17s 3ms/step - loss: 0.3352 - accuracy: 0.8636 - val_loss: 0.3575 - val_accuracy: 0.8610\n",
      "Epoch 99/100\n",
      "5359/5359 [==============================] - 17s 3ms/step - loss: 0.3354 - accuracy: 0.8643 - val_loss: 0.3561 - val_accuracy: 0.8610\n",
      "Epoch 100/100\n",
      "5359/5359 [==============================] - 17s 3ms/step - loss: 0.3343 - accuracy: 0.8642 - val_loss: 0.3595 - val_accuracy: 0.8614\n"
     ]
    }
   ],
   "source": [
    "\n",
    "# Fitting the ANN to the Training set\n",
    "model_history=classifier.fit(X_train, y_train,validation_split=0.33, batch_size = 10, nb_epoch = 100)\n"
   ]
  },
  {
   "cell_type": "code",
   "execution_count": 34,
   "metadata": {},
   "outputs": [
    {
     "name": "stdout",
     "output_type": "stream",
     "text": [
      "dict_keys(['val_loss', 'val_accuracy', 'loss', 'accuracy'])\n"
     ]
    }
   ],
   "source": [
    "# list all data in history\n",
    "\n",
    "print(model_history.history.keys())"
   ]
  },
  {
   "cell_type": "code",
   "execution_count": 36,
   "metadata": {},
   "outputs": [
    {
     "data": {
      "image/png": "[encoded data removed]",
      "text/plain": [
       "<Figure size 432x288 with 1 Axes>"
      ]
     },
     "metadata": {},
     "output_type": "display_data"
    }
   ],
   "source": [
    "# summarize history for accuracy\n",
    "plt.plot(model_history.history['accuracy'])\n",
    "plt.plot(model_history.history['val_accuracy'])\n",
    "plt.title('model accuracy')\n",
    "plt.ylabel('accuracy')\n",
    "plt.xlabel('epoch')\n",
    "plt.legend(['train', 'test'], loc='upper left')\n",
    "plt.show()\n"
   ]
  },
  {
   "cell_type": "code",
   "execution_count": 37,
   "metadata": {},
   "outputs": [
    {
     "data": {
      "image/png": "[encoded data removed]",
      "text/plain": [
       "<Figure size 432x288 with 1 Axes>"
      ]
     },
     "metadata": {},
     "output_type": "display_data"
    }
   ],
   "source": [
    "# summarize history for loss\n",
    "plt.plot(model_history.history['loss'])\n",
    "plt.plot(model_history.history['val_loss'])\n",
    "plt.title('model loss')\n",
    "plt.ylabel('loss')\n",
    "plt.xlabel('epoch')\n",
    "plt.legend(['train', 'test'], loc='upper left')\n",
    "plt.show()"
   ]
  },
  {
   "cell_type": "code",
   "execution_count": 38,
   "metadata": {},
   "outputs": [],
   "source": [
    "# Predicting the Test set results\n",
    "y_pred = classifier.predict(X_test)\n",
    "y_pred = (y_pred > 0.5)"
   ]
  },
  {
   "cell_type": "code",
   "execution_count": 41,
   "metadata": {},
   "outputs": [
    {
     "name": "stdout",
     "output_type": "stream",
     "text": [
      "[[1534   74]\n",
      " [ 232  160]]\n"
     ]
    }
   ],
   "source": [
    "# Making the Confusion Matrix\n",
    "from sklearn.metrics import confusion_matrix\n",
    "cm = confusion_matrix(y_test, y_pred)\n",
    "print(cm)"
   ]
  },
  {
   "cell_type": "code",
   "execution_count": 44,
   "metadata": {},
   "outputs": [
    {
     "name": "stdout",
     "output_type": "stream",
     "text": [
      "0.847\n"
     ]
    }
   ],
   "source": [
    "# Calculate the Accuracy\n",
    "from sklearn.metrics import accuracy_score\n",
    "score=accuracy_score(y_pred,y_test)\n",
    "print(score)"
   ]
  },
  {
   "cell_type": "code",
   "execution_count": 45,
   "metadata": {},
   "outputs": [],
   "source": [
    "## Perform Hyperparameter Optimization\n",
    "\n",
    "from keras.wrappers.scikit_learn import KerasClassifier\n",
    "from sklearn.model_selection import GridSearchCV\n",
    "\n",
    "from keras.models import Sequential\n",
    "from keras.layers import Dense, Activation, Embedding, Flatten, LeakyReLU, BatchNormalization, Dropout\n",
    "from keras.activations import relu, sigmoid\n"
   ]
  },
  {
   "cell_type": "code",
   "execution_count": 46,
   "metadata": {},
   "outputs": [],
   "source": [
    "def create_model(layers, activation):\n",
    "    model = Sequential()\n",
    "    for i, nodes in enumerate(layers):\n",
    "        if i==0:\n",
    "            model.add(Dense(nodes,input_dim=X_train.shape[1]))\n",
    "            model.add(Activation(activation))\n",
    "            model.add(Dropout(0.3))\n",
    "        else:\n",
    "            model.add(Dense(nodes))\n",
    "            model.add(Activation(activation))\n",
    "            model.add(Dropout(0.3))\n",
    "            \n",
    "    model.add(Dense(units = 1, kernel_initializer= 'glorot_uniform', activation = 'sigmoid')) # Note: no activation beyond this point\n",
    "    \n",
    "    model.compile(optimizer='adam', loss='binary_crossentropy',metrics=['accuracy'])\n",
    "    return model"
   ]
  },
  {
   "cell_type": "code",
   "execution_count": 47,
   "metadata": {},
   "outputs": [],
   "source": [
    "model = KerasClassifier(build_fn=create_model, verbose=0)"
   ]
  },
  {
   "cell_type": "markdown",
   "metadata": {},
   "source": [
    "layers = [[20], [40, 20], [45, 30, 15]]\n",
    "activations = ['sigmoid', 'relu']\n",
    "param_grid = dict(layers=layers, activation=activations, batch_size = [128, 256], epochs=[30])\n",
    "grid = GridSearchCV(estimator=model, param_grid=param_grid,cv=5)\n",
    "\n",
    "grid_result = grid.fit(X_train, y_train)\n",
    "\n",
    "[grid_result.best_score_,grid_result.best_params_]\n"
   ]
  },
  {
   "cell_type": "code",
   "execution_count": null,
   "metadata": {},
   "outputs": [],
   "source": [
    "layers = [[20], [40, 20], [45, 30, 15]]\n",
    "activations = ['sigmoid', 'relu']\n",
    "param_grid = dict(layers=layers, activation=activations, batch_size = [128, 256], epochs=[30])\n",
    "grid = GridSearchCV(estimator=model, param_grid=param_grid,cv=5)"
   ]
  },
  {
   "cell_type": "code",
   "execution_count": null,
   "metadata": {},
   "outputs": [],
   "source": [
    "grid_result = grid.fit(X_train, y_train)"
   ]
  },
  {
   "cell_type": "code",
   "execution_count": null,
   "metadata": {},
   "outputs": [],
   "source": [
    "[grid_result.best_score_,grid_result.best_params_]"
   ]
  }
 ],
 "metadata": {
  "kernelspec": {
   "display_name": "Python 3",
   "language": "python",
   "name": "python3"
  },
  "language_info": {
   "codemirror_mode": {
    "name": "ipython",
    "version": 3
   },
   "file_extension": ".py",
   "mimetype": "text/x-python",
   "name": "python",
   "nbconvert_exporter": "python",
   "pygments_lexer": "ipython3",
   "version": "3.6.5"
  }
 },
 "nbformat": 4,
 "nbformat_minor": 2
}
